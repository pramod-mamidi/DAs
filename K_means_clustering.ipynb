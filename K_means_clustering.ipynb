{
  "nbformat": 4,
  "nbformat_minor": 0,
  "metadata": {
    "colab": {
      "name": "K-means_clustering.ipynb",
      "provenance": [],
      "collapsed_sections": [],
      "authorship_tag": "ABX9TyP5W93z+s1vIAwdIpokrTiI",
      "include_colab_link": true
    },
    "kernelspec": {
      "name": "python3",
      "display_name": "Python 3"
    }
  },
  "cells": [
    {
      "cell_type": "markdown",
      "metadata": {
        "id": "view-in-github",
        "colab_type": "text"
      },
      "source": [
        "<a href=\"https://colab.research.google.com/github/pramod-mamidi/DAs/blob/master/K_means_clustering.ipynb\" target=\"_parent\"><img src=\"https://colab.research.google.com/assets/colab-badge.svg\" alt=\"Open In Colab\"/></a>"
      ]
    },
    {
      "cell_type": "code",
      "metadata": {
        "id": "y78klNDUjJn3",
        "colab_type": "code",
        "colab": {}
      },
      "source": [
        "from sklearn.cluster import KMeans\n",
        "from sklearn import preprocessing\n",
        "import numpy as np\n",
        "import pandas as pd\n",
        "import matplotlib.pyplot as plt"
      ],
      "execution_count": 0,
      "outputs": []
    },
    {
      "cell_type": "code",
      "metadata": {
        "id": "AnhdSyTenxTV",
        "colab_type": "code",
        "outputId": "e11f498a-3d0a-4702-ccdb-d9cb0e03522f",
        "colab": {
          "base_uri": "https://localhost:8080/",
          "height": 202
        }
      },
      "source": [
        "!wget -O Cust_Segmentation.csv https://s3-api.us-geo.objectstorage.softlayer.net/cf-courses-data/CognitiveClass/ML0101ENv3/labs/Cust_Segmentation.csv"
      ],
      "execution_count": 12,
      "outputs": [
        {
          "output_type": "stream",
          "text": [
            "--2020-05-11 11:43:57--  https://s3-api.us-geo.objectstorage.softlayer.net/cf-courses-data/CognitiveClass/ML0101ENv3/labs/Cust_Segmentation.csv\n",
            "Resolving s3-api.us-geo.objectstorage.softlayer.net (s3-api.us-geo.objectstorage.softlayer.net)... 67.228.254.196\n",
            "Connecting to s3-api.us-geo.objectstorage.softlayer.net (s3-api.us-geo.objectstorage.softlayer.net)|67.228.254.196|:443... connected.\n",
            "HTTP request sent, awaiting response... 200 OK\n",
            "Length: 34276 (33K) [text/csv]\n",
            "Saving to: ‘Cust_Segmentation.csv’\n",
            "\n",
            "\rCust_Segmentation.c   0%[                    ]       0  --.-KB/s               \rCust_Segmentation.c 100%[===================>]  33.47K  --.-KB/s    in 0.01s   \n",
            "\n",
            "2020-05-11 11:43:57 (2.61 MB/s) - ‘Cust_Segmentation.csv’ saved [34276/34276]\n",
            "\n"
          ],
          "name": "stdout"
        }
      ]
    },
    {
      "cell_type": "code",
      "metadata": {
        "id": "RxQVdiqTn2Ql",
        "colab_type": "code",
        "outputId": "a2347705-ef2e-4179-aa69-66e2cd81d28c",
        "colab": {
          "base_uri": "https://localhost:8080/",
          "height": 195
        }
      },
      "source": [
        "data=pd.read_csv('Cust_Segmentation.csv')\n",
        "data.head()"
      ],
      "execution_count": 13,
      "outputs": [
        {
          "output_type": "execute_result",
          "data": {
            "text/html": [
              "<div>\n",
              "<style scoped>\n",
              "    .dataframe tbody tr th:only-of-type {\n",
              "        vertical-align: middle;\n",
              "    }\n",
              "\n",
              "    .dataframe tbody tr th {\n",
              "        vertical-align: top;\n",
              "    }\n",
              "\n",
              "    .dataframe thead th {\n",
              "        text-align: right;\n",
              "    }\n",
              "</style>\n",
              "<table border=\"1\" class=\"dataframe\">\n",
              "  <thead>\n",
              "    <tr style=\"text-align: right;\">\n",
              "      <th></th>\n",
              "      <th>Customer Id</th>\n",
              "      <th>Age</th>\n",
              "      <th>Edu</th>\n",
              "      <th>Years Employed</th>\n",
              "      <th>Income</th>\n",
              "      <th>Card Debt</th>\n",
              "      <th>Other Debt</th>\n",
              "      <th>Defaulted</th>\n",
              "      <th>Address</th>\n",
              "      <th>DebtIncomeRatio</th>\n",
              "    </tr>\n",
              "  </thead>\n",
              "  <tbody>\n",
              "    <tr>\n",
              "      <th>0</th>\n",
              "      <td>1</td>\n",
              "      <td>41</td>\n",
              "      <td>2</td>\n",
              "      <td>6</td>\n",
              "      <td>19</td>\n",
              "      <td>0.124</td>\n",
              "      <td>1.073</td>\n",
              "      <td>0.0</td>\n",
              "      <td>NBA001</td>\n",
              "      <td>6.3</td>\n",
              "    </tr>\n",
              "    <tr>\n",
              "      <th>1</th>\n",
              "      <td>2</td>\n",
              "      <td>47</td>\n",
              "      <td>1</td>\n",
              "      <td>26</td>\n",
              "      <td>100</td>\n",
              "      <td>4.582</td>\n",
              "      <td>8.218</td>\n",
              "      <td>0.0</td>\n",
              "      <td>NBA021</td>\n",
              "      <td>12.8</td>\n",
              "    </tr>\n",
              "    <tr>\n",
              "      <th>2</th>\n",
              "      <td>3</td>\n",
              "      <td>33</td>\n",
              "      <td>2</td>\n",
              "      <td>10</td>\n",
              "      <td>57</td>\n",
              "      <td>6.111</td>\n",
              "      <td>5.802</td>\n",
              "      <td>1.0</td>\n",
              "      <td>NBA013</td>\n",
              "      <td>20.9</td>\n",
              "    </tr>\n",
              "    <tr>\n",
              "      <th>3</th>\n",
              "      <td>4</td>\n",
              "      <td>29</td>\n",
              "      <td>2</td>\n",
              "      <td>4</td>\n",
              "      <td>19</td>\n",
              "      <td>0.681</td>\n",
              "      <td>0.516</td>\n",
              "      <td>0.0</td>\n",
              "      <td>NBA009</td>\n",
              "      <td>6.3</td>\n",
              "    </tr>\n",
              "    <tr>\n",
              "      <th>4</th>\n",
              "      <td>5</td>\n",
              "      <td>47</td>\n",
              "      <td>1</td>\n",
              "      <td>31</td>\n",
              "      <td>253</td>\n",
              "      <td>9.308</td>\n",
              "      <td>8.908</td>\n",
              "      <td>0.0</td>\n",
              "      <td>NBA008</td>\n",
              "      <td>7.2</td>\n",
              "    </tr>\n",
              "  </tbody>\n",
              "</table>\n",
              "</div>"
            ],
            "text/plain": [
              "   Customer Id  Age  Edu  ...  Defaulted  Address  DebtIncomeRatio\n",
              "0            1   41    2  ...        0.0   NBA001              6.3\n",
              "1            2   47    1  ...        0.0   NBA021             12.8\n",
              "2            3   33    2  ...        1.0   NBA013             20.9\n",
              "3            4   29    2  ...        0.0   NBA009              6.3\n",
              "4            5   47    1  ...        0.0   NBA008              7.2\n",
              "\n",
              "[5 rows x 10 columns]"
            ]
          },
          "metadata": {
            "tags": []
          },
          "execution_count": 13
        }
      ]
    },
    {
      "cell_type": "code",
      "metadata": {
        "id": "4SJDMhutoBqa",
        "colab_type": "code",
        "outputId": "0cc83e0e-2448-4ff9-f39c-1336071e592e",
        "colab": {
          "base_uri": "https://localhost:8080/",
          "height": 282
        }
      },
      "source": [
        "plt.scatter(data['Age'],data['Income'])"
      ],
      "execution_count": 5,
      "outputs": [
        {
          "output_type": "execute_result",
          "data": {
            "text/plain": [
              "<matplotlib.collections.PathCollection at 0x7f677c9b4c88>"
            ]
          },
          "metadata": {
            "tags": []
          },
          "execution_count": 5
        },
        {
          "output_type": "display_data",
          "data": {
            "image/png": "[encoded data removed]",
            "text/plain": [
              "<Figure size 432x288 with 1 Axes>"
            ]
          },
          "metadata": {
            "tags": [],
            "needs_background": "light"
          }
        }
      ]
    },
    {
      "cell_type": "code",
      "metadata": {
        "id": "vNBPGLJqphAH",
        "colab_type": "code",
        "outputId": "7b98617b-81dd-4527-e280-6f58538649d9",
        "colab": {
          "base_uri": "https://localhost:8080/",
          "height": 248
        }
      },
      "source": [
        "fig = plt.figure()\n",
        "ax = fig.add_subplot(111, projection='3d')\n",
        "ax.scatter(data['DebtIncomeRatio'], data['Income'], data['Age'], c='skyblue', s=60)\n",
        "ax.view_init(30, 185)\n",
        "plt.show()"
      ],
      "execution_count": 6,
      "outputs": [
        {
          "output_type": "display_data",
          "data": {
            "image/png": "[encoded data removed]",
            "text/plain": [
              "<Figure size 432x288 with 1 Axes>"
            ]
          },
          "metadata": {
            "tags": [],
            "needs_background": "light"
          }
        }
      ]
    },
    {
      "cell_type": "code",
      "metadata": {
        "id": "2ncpVQhdiqND",
        "colab_type": "code",
        "colab": {
          "base_uri": "https://localhost:8080/",
          "height": 252
        },
        "outputId": "63bd4f5c-09d8-4ef5-b884-926331704eb1"
      },
      "source": [
        "data.drop(columns=['Address'],inplace=True)\n",
        "print(data)"
      ],
      "execution_count": 14,
      "outputs": [
        {
          "output_type": "stream",
          "text": [
            "     Customer Id  Age  Edu  ...  Other Debt  Defaulted  DebtIncomeRatio\n",
            "0              1   41    2  ...       1.073        0.0              6.3\n",
            "1              2   47    1  ...       8.218        0.0             12.8\n",
            "2              3   33    2  ...       5.802        1.0             20.9\n",
            "3              4   29    2  ...       0.516        0.0              6.3\n",
            "4              5   47    1  ...       8.908        0.0              7.2\n",
            "..           ...  ...  ...  ...         ...        ...              ...\n",
            "845          846   27    1  ...       1.220        NaN              6.8\n",
            "846          847   28    2  ...       2.021        0.0              7.0\n",
            "847          848   25    4  ...       3.210        1.0             33.4\n",
            "848          849   32    1  ...       0.696        0.0              2.9\n",
            "849          850   52    1  ...       3.638        0.0              8.6\n",
            "\n",
            "[850 rows x 9 columns]\n"
          ],
          "name": "stdout"
        }
      ]
    },
    {
      "cell_type": "code",
      "metadata": {
        "id": "rFX0dM4vjMzU",
        "colab_type": "code",
        "colab": {
          "base_uri": "https://localhost:8080/",
          "height": 185
        },
        "outputId": "0f2c88a6-4bcc-4723-aa56-30cd8168dd80"
      },
      "source": [
        "x=data[np.array(data.columns)].values\n",
        "x[0:5]"
      ],
      "execution_count": 15,
      "outputs": [
        {
          "output_type": "execute_result",
          "data": {
            "text/plain": [
              "array([[1.000e+00, 4.100e+01, 2.000e+00, 6.000e+00, 1.900e+01, 1.240e-01,\n",
              "        1.073e+00, 0.000e+00, 6.300e+00],\n",
              "       [2.000e+00, 4.700e+01, 1.000e+00, 2.600e+01, 1.000e+02, 4.582e+00,\n",
              "        8.218e+00, 0.000e+00, 1.280e+01],\n",
              "       [3.000e+00, 3.300e+01, 2.000e+00, 1.000e+01, 5.700e+01, 6.111e+00,\n",
              "        5.802e+00, 1.000e+00, 2.090e+01],\n",
              "       [4.000e+00, 2.900e+01, 2.000e+00, 4.000e+00, 1.900e+01, 6.810e-01,\n",
              "        5.160e-01, 0.000e+00, 6.300e+00],\n",
              "       [5.000e+00, 4.700e+01, 1.000e+00, 3.100e+01, 2.530e+02, 9.308e+00,\n",
              "        8.908e+00, 0.000e+00, 7.200e+00]])"
            ]
          },
          "metadata": {
            "tags": []
          },
          "execution_count": 15
        }
      ]
    },
    {
      "cell_type": "code",
      "metadata": {
        "id": "2p1c1Wjjjo7V",
        "colab_type": "code",
        "colab": {
          "base_uri": "https://localhost:8080/",
          "height": 185
        },
        "outputId": "eaae2c01-dede-48ad-9f46-32930c04bfa8"
      },
      "source": [
        "x=preprocessing.StandardScaler().fit(x).transform(x)\n",
        "x[0:5]"
      ],
      "execution_count": 16,
      "outputs": [
        {
          "output_type": "execute_result",
          "data": {
            "text/plain": [
              "array([[-1.7300143 ,  0.74291541,  0.31212243, -0.37878978, -0.71845859,\n",
              "        -0.68381116, -0.59048916, -0.59494973, -0.57652509],\n",
              "       [-1.72593888,  1.48949049, -0.76634938,  2.5737211 ,  1.38432469,\n",
              "         1.41447366,  1.51296181, -0.59494973,  0.39138677],\n",
              "       [-1.72186347, -0.25251804,  0.31212243,  0.2117124 ,  0.26803233,\n",
              "         2.13414111,  0.80170393,  1.68081427,  1.59755385],\n",
              "       [-1.71778805, -0.75023477,  0.31212243, -0.67404087, -0.71845859,\n",
              "        -0.42164323, -0.75446707, -0.59494973, -0.57652509],\n",
              "       [-1.71371263,  1.48949049, -0.76634938,  3.31184882,  5.35624866,\n",
              "         3.63890032,  1.71609424, -0.59494973, -0.44250653]])"
            ]
          },
          "metadata": {
            "tags": []
          },
          "execution_count": 16
        }
      ]
    },
    {
      "cell_type": "code",
      "metadata": {
        "id": "xyXq_yjlnbSq",
        "colab_type": "code",
        "colab": {
          "base_uri": "https://localhost:8080/",
          "height": 50
        },
        "outputId": "24340802-0f94-4f89-e89e-fc24e6a94c7f"
      },
      "source": [
        ""
      ],
      "execution_count": 18,
      "outputs": [
        {
          "output_type": "execute_result",
          "data": {
            "text/plain": [
              "array([-1.48548931,  0.49405704, -0.76634938,  1.24509121,  0.34591319,\n",
              "        0.41098707,  0.7922833 , -0.59494973,  0.52540533])"
            ]
          },
          "metadata": {
            "tags": []
          },
          "execution_count": 18
        }
      ]
    },
    {
      "cell_type": "code",
      "metadata": {
        "id": "7Tnemp0Ij1Jz",
        "colab_type": "code",
        "colab": {
          "base_uri": "https://localhost:8080/",
          "height": 538
        },
        "outputId": "5050cb5f-ee1f-45f3-87f5-1dd935c2c2ee"
      },
      "source": [
        "clstr = KMeans(init = \"k-means++\", n_clusters = 4, n_init = 12,max_iter=400)\n",
        "x=np.nan_to_num(x)\n",
        "clstr.fit(x)\n",
        "lb=clstr.labels_\n",
        "cc=clstr.cluster_centers_\n",
        "print(lb)\n",
        "print(cc)"
      ],
      "execution_count": 28,
      "outputs": [
        {
          "output_type": "stream",
          "text": [
            "[1 2 0 1 3 2 1 1 1 2 2 1 1 2 0 1 1 1 2 2 1 2 0 2 3 2 1 2 2 1 2 2 0 1 1 1 0\n",
            " 0 1 2 0 2 0 2 2 2 1 1 1 1 2 2 0 2 0 0 0 1 2 2 2 2 2 2 1 1 2 0 1 0 1 1 2 0\n",
            " 1 1 1 1 3 2 2 0 2 1 2 1 0 1 0 0 2 1 0 0 1 1 1 1 0 1 0 3 2 0 0 2 1 1 1 2 2\n",
            " 0 1 0 1 1 1 2 2 1 1 1 1 2 1 2 1 1 1 1 1 2 1 1 1 1 2 1 2 0 0 1 1 1 3 0 2 0\n",
            " 1 1 1 2 0 1 1 2 2 2 0 0 1 2 2 1 1 1 1 1 1 2 2 1 1 0 1 0 2 1 0 2 0 1 1 3 0\n",
            " 0 1 1 2 2 0 2 2 0 2 1 1 2 3 1 2 1 0 1 1 2 1 2 2 0 1 1 1 2 1 0 0 0 2 2 0 2\n",
            " 1 1 1 1 3 1 0 2 1 2 2 1 2 1 2 0 2 1 1 1 1 1 1 2 2 2 1 1 1 1 1 0 2 0 2 0 1\n",
            " 1 1 0 2 0 2 0 1 2 1 1 0 1 1 2 1 0 0 0 1 1 1 3 2 1 2 1 2 1 2 2 1 1 1 0 1 1\n",
            " 0 1 0 2 2 2 1 1 0 1 2 0 0 1 1 1 1 1 2 1 1 0 1 0 3 1 0 1 1 1 0 0 2 2 2 2 0\n",
            " 1 1 0 1 2 0 2 2 2 1 0 2 1 1 1 1 1 3 1 1 1 1 1 3 1 1 1 2 0 1 0 2 1 2 2 2 2\n",
            " 0 1 2 0 0 1 0 2 0 1 1 1 1 1 3 1 2 1 1 1 1 0 1 0 1 1 1 2 1 1 1 1 0 1 1 0 0\n",
            " 2 2 1 1 2 1 0 0 2 2 0 2 1 2 0 1 1 3 2 1 2 1 1 2 2 0 1 2 1 1 1 2 2 1 2 1 3\n",
            " 2 0 1 1 2 1 3 0 1 1 3 1 0 1 1 2 1 3 1 1 1 1 2 1 1 2 2 1 2 2 2 0 2 1 1 0 1\n",
            " 0 1 1 1 1 2 2 0 0 1 2 1 2 1 1 0 3 2 0 0 0 2 2 0 1 1 0 2 0 0 1 0 3 2 2 0 1\n",
            " 0 2 0 1 1 0 2 1 0 2 0 1 1 2 3 3 1 1 0 1 1 0 2 1 0 2 2 2 0 1 2 1 2 2 1 2 1\n",
            " 1 3 1 0 1 2 2 1 0 0 2 2 1 3 1 1 3 1 0 1 0 1 0 0 2 3 0 2 1 2 0 1 1 1 2 1 2\n",
            " 2 0 0 1 1 1 2 2 1 1 0 3 1 2 0 1 0 1 1 1 0 1 1 0 0 0 0 1 3 1 0 0 1 1 1 1 2\n",
            " 3 2 0 2 2 2 1 1 2 1 2 1 1 3 0 2 2 2 0 1 1 0 1 2 2 1 1 1 3 2 1 1 1 1 2 1 1\n",
            " 2 1 1 0 2 2 3 1 1 2 1 2 1 1 2 1 0 2 1 1 0 2 1 1 1 1 1 2 1 1 0 1 1 0 1 0 1\n",
            " 0 0 2 1 1 2 0 2 1 2 3 1 0 1 2 2 3 1 1 1 1 0 2 1 0 1 1 2 2 1 1 2 1 1 1 1 1\n",
            " 2 2 1 0 1 2 2 2 0 1 1 1 1 1 0 1 1 1 2 0 2 2 1 2 1 0 1 1 1 2 0 1 0 1 2 2 3\n",
            " 1 2 1 1 1 1 1 3 1 2 1 1 1 1 3 2 0 0 1 0 1 0 1 1 2 0 1 1 1 1 1 2 0 1 1 1 0\n",
            " 1 1 0 1 1 1 1 2 1 0 0 2 3 1 1 1 0 1 1 1 1 0 1 1 1 1 1 1 1 1 1 1 1 0 1 2]\n",
            "[[-0.03709555 -0.54026053  0.2569733  -0.73443313 -0.39838005  0.05584408\n",
            "  -0.0224393   1.4532194   0.68734443]\n",
            " [ 0.08079913 -0.35376924 -0.13988414 -0.3976048  -0.41781556 -0.41850998\n",
            "  -0.45633243 -0.47563149 -0.39093566]\n",
            " [-0.14333669  0.86952756 -0.03790789  1.05278951  0.64901094  0.17978482\n",
            "   0.33395705 -0.36205466 -0.05684394]\n",
            " [ 0.16430363  1.08345843  0.53916912  1.35386792  2.43708266  3.15612041\n",
            "   2.99975636  0.54840779  1.35498809]]\n"
          ],
          "name": "stdout"
        }
      ]
    },
    {
      "cell_type": "code",
      "metadata": {
        "id": "Ukiuz2lpqSfx",
        "colab_type": "code",
        "colab": {
          "base_uri": "https://localhost:8080/",
          "height": 195
        },
        "outputId": "6c081cc7-5942-43d3-b04d-cdf73fe9dc26"
      },
      "source": [
        "data[\"labels\"]=lb\n",
        "data.head()"
      ],
      "execution_count": 29,
      "outputs": [
        {
          "output_type": "execute_result",
          "data": {
            "text/html": [
              "<div>\n",
              "<style scoped>\n",
              "    .dataframe tbody tr th:only-of-type {\n",
              "        vertical-align: middle;\n",
              "    }\n",
              "\n",
              "    .dataframe tbody tr th {\n",
              "        vertical-align: top;\n",
              "    }\n",
              "\n",
              "    .dataframe thead th {\n",
              "        text-align: right;\n",
              "    }\n",
              "</style>\n",
              "<table border=\"1\" class=\"dataframe\">\n",
              "  <thead>\n",
              "    <tr style=\"text-align: right;\">\n",
              "      <th></th>\n",
              "      <th>Customer Id</th>\n",
              "      <th>Age</th>\n",
              "      <th>Edu</th>\n",
              "      <th>Years Employed</th>\n",
              "      <th>Income</th>\n",
              "      <th>Card Debt</th>\n",
              "      <th>Other Debt</th>\n",
              "      <th>Defaulted</th>\n",
              "      <th>DebtIncomeRatio</th>\n",
              "      <th>labels</th>\n",
              "    </tr>\n",
              "  </thead>\n",
              "  <tbody>\n",
              "    <tr>\n",
              "      <th>0</th>\n",
              "      <td>1</td>\n",
              "      <td>41</td>\n",
              "      <td>2</td>\n",
              "      <td>6</td>\n",
              "      <td>19</td>\n",
              "      <td>0.124</td>\n",
              "      <td>1.073</td>\n",
              "      <td>0.0</td>\n",
              "      <td>6.3</td>\n",
              "      <td>1</td>\n",
              "    </tr>\n",
              "    <tr>\n",
              "      <th>1</th>\n",
              "      <td>2</td>\n",
              "      <td>47</td>\n",
              "      <td>1</td>\n",
              "      <td>26</td>\n",
              "      <td>100</td>\n",
              "      <td>4.582</td>\n",
              "      <td>8.218</td>\n",
              "      <td>0.0</td>\n",
              "      <td>12.8</td>\n",
              "      <td>2</td>\n",
              "    </tr>\n",
              "    <tr>\n",
              "      <th>2</th>\n",
              "      <td>3</td>\n",
              "      <td>33</td>\n",
              "      <td>2</td>\n",
              "      <td>10</td>\n",
              "      <td>57</td>\n",
              "      <td>6.111</td>\n",
              "      <td>5.802</td>\n",
              "      <td>1.0</td>\n",
              "      <td>20.9</td>\n",
              "      <td>0</td>\n",
              "    </tr>\n",
              "    <tr>\n",
              "      <th>3</th>\n",
              "      <td>4</td>\n",
              "      <td>29</td>\n",
              "      <td>2</td>\n",
              "      <td>4</td>\n",
              "      <td>19</td>\n",
              "      <td>0.681</td>\n",
              "      <td>0.516</td>\n",
              "      <td>0.0</td>\n",
              "      <td>6.3</td>\n",
              "      <td>1</td>\n",
              "    </tr>\n",
              "    <tr>\n",
              "      <th>4</th>\n",
              "      <td>5</td>\n",
              "      <td>47</td>\n",
              "      <td>1</td>\n",
              "      <td>31</td>\n",
              "      <td>253</td>\n",
              "      <td>9.308</td>\n",
              "      <td>8.908</td>\n",
              "      <td>0.0</td>\n",
              "      <td>7.2</td>\n",
              "      <td>3</td>\n",
              "    </tr>\n",
              "  </tbody>\n",
              "</table>\n",
              "</div>"
            ],
            "text/plain": [
              "   Customer Id  Age  Edu  ...  Defaulted  DebtIncomeRatio  labels\n",
              "0            1   41    2  ...        0.0              6.3       1\n",
              "1            2   47    1  ...        0.0             12.8       2\n",
              "2            3   33    2  ...        1.0             20.9       0\n",
              "3            4   29    2  ...        0.0              6.3       1\n",
              "4            5   47    1  ...        0.0              7.2       3\n",
              "\n",
              "[5 rows x 10 columns]"
            ]
          },
          "metadata": {
            "tags": []
          },
          "execution_count": 29
        }
      ]
    },
    {
      "cell_type": "code",
      "metadata": {
        "id": "1szcr6VeuOA4",
        "colab_type": "code",
        "colab": {
          "base_uri": "https://localhost:8080/",
          "height": 195
        },
        "outputId": "ea5ebfe1-7f89-4fbf-ac9e-01d79db76989"
      },
      "source": [
        "data.groupby('labels').mean()"
      ],
      "execution_count": 33,
      "outputs": [
        {
          "output_type": "execute_result",
          "data": {
            "text/html": [
              "<div>\n",
              "<style scoped>\n",
              "    .dataframe tbody tr th:only-of-type {\n",
              "        vertical-align: middle;\n",
              "    }\n",
              "\n",
              "    .dataframe tbody tr th {\n",
              "        vertical-align: top;\n",
              "    }\n",
              "\n",
              "    .dataframe thead th {\n",
              "        text-align: right;\n",
              "    }\n",
              "</style>\n",
              "<table border=\"1\" class=\"dataframe\">\n",
              "  <thead>\n",
              "    <tr style=\"text-align: right;\">\n",
              "      <th></th>\n",
              "      <th>Customer Id</th>\n",
              "      <th>Age</th>\n",
              "      <th>Edu</th>\n",
              "      <th>Years Employed</th>\n",
              "      <th>Income</th>\n",
              "      <th>Card Debt</th>\n",
              "      <th>Other Debt</th>\n",
              "      <th>Defaulted</th>\n",
              "      <th>DebtIncomeRatio</th>\n",
              "    </tr>\n",
              "    <tr>\n",
              "      <th>labels</th>\n",
              "      <th></th>\n",
              "      <th></th>\n",
              "      <th></th>\n",
              "      <th></th>\n",
              "      <th></th>\n",
              "      <th></th>\n",
              "      <th></th>\n",
              "      <th></th>\n",
              "      <th></th>\n",
              "    </tr>\n",
              "  </thead>\n",
              "  <tbody>\n",
              "    <tr>\n",
              "      <th>0</th>\n",
              "      <td>416.397727</td>\n",
              "      <td>30.687500</td>\n",
              "      <td>1.948864</td>\n",
              "      <td>3.590909</td>\n",
              "      <td>31.329545</td>\n",
              "      <td>1.695466</td>\n",
              "      <td>3.002551</td>\n",
              "      <td>0.950920</td>\n",
              "      <td>14.787500</td>\n",
              "    </tr>\n",
              "    <tr>\n",
              "      <th>1</th>\n",
              "      <td>445.325980</td>\n",
              "      <td>32.186275</td>\n",
              "      <td>1.580882</td>\n",
              "      <td>5.872549</td>\n",
              "      <td>30.580882</td>\n",
              "      <td>0.687657</td>\n",
              "      <td>1.528703</td>\n",
              "      <td>0.003030</td>\n",
              "      <td>7.546324</td>\n",
              "    </tr>\n",
              "    <tr>\n",
              "      <th>2</th>\n",
              "      <td>390.328947</td>\n",
              "      <td>42.017544</td>\n",
              "      <td>1.675439</td>\n",
              "      <td>15.697368</td>\n",
              "      <td>71.675439</td>\n",
              "      <td>1.958789</td>\n",
              "      <td>4.213158</td>\n",
              "      <td>0.056497</td>\n",
              "      <td>9.789912</td>\n",
              "    </tr>\n",
              "    <tr>\n",
              "      <th>3</th>\n",
              "      <td>465.815789</td>\n",
              "      <td>43.736842</td>\n",
              "      <td>2.210526</td>\n",
              "      <td>17.736842</td>\n",
              "      <td>140.552632</td>\n",
              "      <td>8.282289</td>\n",
              "      <td>13.268342</td>\n",
              "      <td>0.566667</td>\n",
              "      <td>19.271053</td>\n",
              "    </tr>\n",
              "  </tbody>\n",
              "</table>\n",
              "</div>"
            ],
            "text/plain": [
              "        Customer Id        Age  ...  Defaulted  DebtIncomeRatio\n",
              "labels                          ...                            \n",
              "0        416.397727  30.687500  ...   0.950920        14.787500\n",
              "1        445.325980  32.186275  ...   0.003030         7.546324\n",
              "2        390.328947  42.017544  ...   0.056497         9.789912\n",
              "3        465.815789  43.736842  ...   0.566667        19.271053\n",
              "\n",
              "[4 rows x 9 columns]"
            ]
          },
          "metadata": {
            "tags": []
          },
          "execution_count": 33
        }
      ]
    },
    {
      "cell_type": "code",
      "metadata": {
        "id": "VbsgyBWDvJ5B",
        "colab_type": "code",
        "colab": {
          "base_uri": "https://localhost:8080/",
          "height": 248
        },
        "outputId": "a86e5785-697a-405c-9512-8e684b24d795"
      },
      "source": [
        "fig = plt.figure()\n",
        "ax = fig.add_subplot(111, projection='3d')\n",
        "ax.scatter(data['DebtIncomeRatio'], data['Income'], data['Age'],c=lb.astype(np.float))\n",
        "ax.view_init(30, 30)\n",
        "plt.show()"
      ],
      "execution_count": 44,
      "outputs": [
        {
          "output_type": "display_data",
          "data": {
            "image/png": "[encoded data removed]",
            "text/plain": [
              "<Figure size 432x288 with 1 Axes>"
            ]
          },
          "metadata": {
            "tags": [],
            "needs_background": "light"
          }
        }
      ]
    },
    {
      "cell_type": "code",
      "metadata": {
        "id": "4hLIwGQzw1jc",
        "colab_type": "code",
        "colab": {}
      },
      "source": [
        ""
      ],
      "execution_count": 0,
      "outputs": []
    },
    {
      "cell_type": "code",
      "metadata": {
        "id": "SfD0_2JFxF4d",
        "colab_type": "code",
        "colab": {}
      },
      "source": [
        "w=[]\n",
        "for i in range(1,20):\n",
        "  clstr = KMeans(init = \"k-means++\", n_clusters = i, n_init = 12,max_iter=400)\n",
        "  clstr.fit(x)\n",
        "  w.append(clstr.inertia_)"
      ],
      "execution_count": 0,
      "outputs": []
    },
    {
      "cell_type": "code",
      "metadata": {
        "id": "ix7_aXc8yaU1",
        "colab_type": "code",
        "colab": {
          "base_uri": "https://localhost:8080/",
          "height": 265
        },
        "outputId": "1f73375a-6597-4735-a23c-2f9dd6431682"
      },
      "source": [
        "plt.plot(np.arange(1,20),w,c='r')\n",
        "plt.show()\n",
        "#therefore elbow point is 2 hence this dataset would have good output with k = 2."
      ],
      "execution_count": 57,
      "outputs": [
        {
          "output_type": "display_data",
          "data": {
            "image/png": "[encoded data removed]",
            "text/plain": [
              "<Figure size 432x288 with 1 Axes>"
            ]
          },
          "metadata": {
            "tags": [],
            "needs_background": "light"
          }
        }
      ]
    }
  ]
}